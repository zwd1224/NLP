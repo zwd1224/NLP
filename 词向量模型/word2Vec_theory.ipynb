{
 "cells": [
  {
   "cell_type": "markdown",
   "metadata": {},
   "source": [
    "# 词向量模型\n",
    "---\n",
    "词向量模型（Word Embedding Models）是自然语言处理（NLP）中的核心技术，旨在将词汇映射到连续的实数向量空间中，从而捕捉词语的语义和语法关系。以下是其核心概念、常见模型及实际应用：\n",
    "\n",
    "### **词向量的核心作用**\n",
    "1. **语义表示**  \n",
    "   - 将离散的词语转换为连续的向量，使得计算机能通过数学运算处理语义。\n",
    "   - 例如：`国王 - 男人 + 女人 ≈ 女王`（通过向量加减模拟语义关系）。\n",
    "\n",
    "2. **降维与泛化**  \n",
    "   - 解决传统方法（如One-Hot编码）的高维稀疏问题，提升模型效率和泛化能力。\n",
    "\n",
    "3. **上下文捕捉**  \n",
    "   - 通过大规模语料训练，模型能学习词语在上下文中的动态含义（如“苹果”在水果和科技公司中的不同含义）。\n",
    "\n",
    "\n",
    "\n",
    "### **常见词向量模型**\n",
    "#### 1. **Word2Vec**（Google, 2013）\n",
    "- **核心思想**：通过上下文预测目标词（Skip-Gram）或通过目标词预测上下文（CBOW）。\n",
    "- **特点**：\n",
    "  - 轻量高效，适合大规模语料。\n",
    "  - 生成的向量能捕捉词语的线性关系（如类比任务）。\n",
    "- **示例代码**（使用Gensim库）：\n",
    "  ```python\n",
    "  from gensim.models import Word2Vec\n",
    "  \n",
    "  sentences = [[\"cat\", \"jumps\"], [\"dog\", \"runs\"]]\n",
    "  model = Word2Vec(sentences, vector_size=100, window=5, min_count=1)\n",
    "  print(model.wv[\"cat\"])  # 输出\"cat\"的词向量\n",
    "  ```\n",
    "\n",
    "#### 2. **GloVe**（Stanford, 2014）\n",
    "- **核心思想**：基于全局词共现矩阵，利用矩阵分解生成词向量。\n",
    "- **特点**：\n",
    "  - 结合了全局统计信息和局部上下文窗口。\n",
    "  - 在词类比任务和相似度计算中表现优异。\n",
    "\n",
    "#### 3. **FastText**（Facebook, 2016）\n",
    "- **核心思想**：将词语拆分为字符级n-gram，解决未登录词（OOV）问题。\n",
    "- **特点**：\n",
    "  - 对形态丰富的语言（如德语、土耳其语）效果更好。\n",
    "  - 例如：“apple”可分解为“ap”、“app”、“pple”等子词。\n",
    "\n",
    "\n",
    "\n",
    "### **训练词向量的关键步骤**\n",
    "1. **语料准备**  \n",
    "   - 使用大规模文本数据（如维基百科、新闻语料）。\n",
    "2. **预处理**  \n",
    "   - 分词、去停用词、词干提取等。\n",
    "3. **模型选择**  \n",
    "   - 根据任务选择Word2Vec、GloVe或FastText。\n",
    "4. **参数调优**  \n",
    "   - 向量维度（通常100-300）、窗口大小、负采样数等。\n",
    "\n",
    "\n",
    "\n",
    "### **实际应用场景**\n",
    "1. **文本分类**  \n",
    "   - 将词向量作为输入特征，训练分类模型（如LSTM、CNN）。\n",
    "2. **语义搜索**  \n",
    "   - 计算查询词与文档的向量相似度，提升搜索相关性。\n",
    "3. **机器翻译**  \n",
    "   - 对齐不同语言的词向量空间（如跨语言词嵌入）。\n",
    "4. **推荐系统**  \n",
    "   - 利用物品描述文本的词向量，增强推荐语义理解。\n",
    "\n",
    "\n",
    "\n",
    "### **词向量的局限性**\n",
    "1. **静态表示**  \n",
    "   - 传统词向量无法处理一词多义（如“bank”在“河岸”和“银行”中的不同含义）。\n",
    "   - **解决方案**：使用上下文相关模型（如BERT、ELMo）。\n",
    "2. **依赖语料质量**  \n",
    "   - 训练数据的偏见会影响词向量结果（如性别偏见：“程序员→男性”）。\n",
    "3. **计算资源消耗**  \n",
    "   - 大规模语料训练需要较高的内存和计算能力。\n",
    "\n",
    "\n",
    "### **现代演进：从词向量到上下文表示**\n",
    "- **Transformer模型**（如BERT、GPT）取代传统静态词向量，通过动态上下文编码实现更精准的语义表示。\n",
    "- **示例**：BERT生成的词向量会根据句子上下文变化，解决“苹果”在不同语境中的歧义。\n",
    "\n",
    "\n",
    "### **总结**\n",
    "- **词向量模型**是NLP的基石，将词语映射到语义空间，支撑下游任务（如分类、翻译）。\n",
    "- **选择建议**：\n",
    "  - 小规模数据：使用预训练模型（如Gensim的Google News Word2Vec）。\n",
    "  - 未登录词多：优先选择FastText。\n",
    "  - 需要上下文感知：采用BERT等Transformer模型。\n",
    "  \n",
    "\n",
    "---\n"
   ]
  },
  {
   "cell_type": "markdown",
   "metadata": {},
   "source": [
    "Word2Vec 和 Transformer 是自然语言处理（NLP）中两个里程碑式的技术，分别代表了不同阶段的语义建模思想。它们在目标、结构和应用场景上既有联系也有显著区别。\n",
    "\n",
    "\n",
    "### **核心联系**\n",
    "1. **词向量作为基础**  \n",
    "   - Word2Vec 生成的**静态词向量**（如 `word2vec-google-news`）常被用作 Transformer 模型的**输入嵌入层**，为后续的上下文建模提供初始语义表示。\n",
    "   - 例如：Transformer 的输入层会将每个词转换为向量，类似 Word2Vec 的嵌入过程。\n",
    "\n",
    "2. **上下文建模的延续性**  \n",
    "   - Word2Vec 通过局部上下文窗口（如 CBOW/Skip-Gram）捕捉词的共现关系，而 Transformer 通过**自注意力机制**（Self-Attention）建模全局上下文依赖。两者均致力于捕捉词与词之间的语义关联。\n",
    "\n",
    "3. **预训练思想的铺垫**  \n",
    "   - Word2Vec 的“无监督预训练”为后续 Transformer 模型（如 BERT、GPT）的预训练范式提供了启发。\n",
    "\n",
    "\n",
    "\n",
    "### **核心区别**\n",
    "| **维度**         | **Word2Vec**                            | **Transformer**                          |\n",
    "|-------------------|-----------------------------------------|------------------------------------------|\n",
    "| **目标**          | 生成**静态词向量**                      | 生成**动态上下文相关表示**               |\n",
    "| **上下文建模**    | 基于局部窗口（固定窗口大小）            | 基于全局自注意力（全序列依赖）           |\n",
    "| **词义消歧**      | 无法处理一词多义（如“苹果”仅一个向量）  | 动态调整词义（如“苹果”在不同句中的向量） |\n",
    "| **模型复杂度**    | 简单（浅层神经网络）                    | 复杂（多层编码器/解码器 + 注意力机制）   |\n",
    "| **输入输出形式**  | 输入为词，输出为固定向量                | 输入为词序列，输出为上下文相关向量       |\n",
    "| **训练资源需求**  | 低（适合小规模数据）                    | 高（需大规模数据与算力）                 |\n",
    "| **典型应用**      | 词类比、简单分类任务                    | 机器翻译、文本生成、问答系统             |\n",
    "\n",
    "\n",
    "\n",
    "### **具体分析**\n",
    "#### 1. **词向量性质**\n",
    "- **Word2Vec**：  \n",
    "  每个词对应唯一向量，与上下文无关。例如“苹果”在“吃苹果”和“苹果手机”中向量相同。  \n",
    "  ```python\n",
    "  # Word2Vec 的静态表示\n",
    "  vector_apple = word2vec_model[\"苹果\"]  # 固定不变\n",
    "  ```\n",
    "\n",
    "- **Transformer**：  \n",
    "  词向量根据上下文动态变化。例如 BERT 中，“苹果”在句子 A 和句子 B 中的向量不同。  \n",
    "  ```python\n",
    "  # Transformer 的动态表示（以 BERT 为例）\n",
    "  output = bert_model(\"吃苹果\")\n",
    "  vector_apple_1 = output.last_hidden_state[1]  # 对应“苹果”的向量\n",
    "\n",
    "  output = bert_model(\"苹果手机\")\n",
    "  vector_apple_2 = output.last_hidden_state[0]  # 同一词，不同上下文中的向量\n",
    "  ```\n",
    "\n",
    "#### 2. **上下文建模能力**\n",
    "- **Word2Vec**：  \n",
    "  通过滑动窗口捕捉局部共现关系，但无法建模长距离依赖。例如在句子“虽然天气不好，但我还是决定去爬山”中，“爬山”与“天气”的关联可能被窗口大小限制忽略。\n",
    "\n",
    "- **Transformer**：  \n",
    "  自注意力机制直接计算序列中任意两个词的关系，无论距离多远。例如可以捕捉“爬山”与句首“虽然”的逻辑关联。\n",
    "\n",
    "#### 3. **模型结构差异**\n",
    "- **Word2Vec**：  \n",
    "  单层神经网络（输入层 → 隐藏层 → 输出层），无深度结构。  \n",
    "  ![Word2Vec结构](https://miro.medium.com/v2/resize:fit:720/format:webp/1*I4Sw4Xk8BISz5IE8XeVsWw.png)\n",
    "\n",
    "- **Transformer**：  \n",
    "  多层堆叠的编码器/解码器，每层包含自注意力层和前馈网络。  \n",
    "  ![Transformer结构](https://miro.medium.com/v2/resize:fit:1400/format:webp/1*BHzGVskWGS_3jEcYYi6miQ.png)\n",
    "\n",
    "\n",
    "\n",
    "### **协作与演进**\n",
    "1. **从 Word2Vec 到 Transformer 的过渡**  \n",
    "   - Word2Vec 提供词级语义基础，Transformer 通过动态建模实现句子/篇章级语义理解。\n",
    "   - 例如：早期机器翻译系统（如 Seq2Seq + LSTM）使用 Word2Vec 作为词嵌入，而现代系统（如 Transformer-based）直接端到端学习上下文表示。\n",
    "\n",
    "2. **联合应用场景**  \n",
    "   - **冷启动问题**：在小数据场景中，先用 Word2Vec 初始化词向量，再用 Transformer 微调。\n",
    "   - **轻量级任务**：对实时性要求高的场景（如搜索推荐），仍可能使用 Word2Vec 的静态向量加速计算。\n",
    "\n",
    "\n",
    "### **总结**\n",
    "- **选择建议**：  \n",
    "  - 若任务需要简单、快速的词级语义表示（如关键词扩展），优先使用 Word2Vec。  \n",
    "  - 若任务依赖上下文理解（如文本生成、情感分析），必须使用 Transformer 或其变体（如 BERT、GPT）。\n",
    "\n",
    "- **演进关系**：  \n",
    "  Word2Vec 是词向量技术的奠基者，而 Transformer 是上下文建模的集大成者，两者共同推动了 NLP 从“词级静态表示”到“上下文动态建模”的跨越。\n",
    "\n",
    "\n",
    "---\n",
    "\n",
    "\n",
    "\n",
    "Word2Vec 是 Google 在 2013 年提出的经典词向量模型，其核心目标是通过**上下文预测词**（或通过词预测上下文），从而学习低维稠密的词向量表示。以下是其算法流程的详细拆解：\n",
    "\n",
    "### **一、核心思想**\n",
    "Word2Vec 包含两种模型：\n",
    "1. **CBOW（Continuous Bag-of-Words）**  \n",
    "   **通过上下文预测中心词**（例如：用 [\"The\", \"cat\", \"on\", \"the\"] 预测 \"mat\"）。\n",
    "   \n",
    "2. **Skip-Gram**  \n",
    "   **通过中心词预测上下文**（例如：用 \"mat\" 预测 [\"The\", \"cat\", \"on\", \"the\"]）。\n",
    "\n",
    "两者的本质都是通过**浅层神经网络**学习词向量，但方向相反。以下以 **Skip-Gram** 为例详细说明流程。\n",
    "\n",
    "\n",
    "\n",
    "### **二、Skip-Gram 算法流程**\n",
    "#### **1. 输入与输出**\n",
    "- **输入**：中心词 $ w_t $（例如 \"mat\"）。\n",
    "- **输出**：上下文窗口内的词（如前后各2个词：[\"The\", \"cat\", \"on\", \"the\"]）。\n",
    "- **窗口大小（window）**：可调参数（通常取5-10）。\n",
    "\n",
    "#### **2. 模型结构**\n",
    "```plaintext\n",
    "输入层 → 隐藏层（词向量层） → 输出层（Softmax概率分布）\n",
    "```\n",
    "- **输入层**：中心词的 **One-Hot 编码**（维度为词汇表大小 $ V $）。\n",
    "- **隐藏层**：权重矩阵 $ W_{V \\times d} $（$ d $ 为词向量维度），直接生成中心词的向量表示。\n",
    "- **输出层**：权重矩阵 $ W'_{d \\times V} $，通过 Softmax 计算上下文词的概率分布。\n",
    "\n",
    "![Skip-Gram模型结构](https://miro.medium.com/v2/resize:fit:1400/format:webp/1*eHjB0HcS7yB5x2g0qTl2sA.png)\n",
    "\n",
    "#### **3. 具体步骤**\n",
    "1. **One-Hot编码**  \n",
    "   将中心词 $ w_t $ 转换为一个 $ V $ 维的稀疏向量（只有对应词位置为1，其余为0）。\n",
    "\n",
    "2. **生成词向量**  \n",
    "   输入向量与权重矩阵 $ W $ 相乘，得到隐藏层的词向量 $ v_{w_t} $（即 $ W $ 的第 $ t $ 行）。  \n",
    "   $$\n",
    "   v_{w_t} = W^T \\cdot \\text{OneHot}(w_t)\n",
    "   $$\n",
    "\n",
    "3. **计算上下文概率**  \n",
    "   将 $ v_{w_t} $ 与输出层权重矩阵 $ W' $ 相乘，得到每个词的得分，再通过 Softmax 转换为概率分布：  \n",
    "   $$\n",
    "   p(w_c | w_t) = \\frac{\\exp(v_{w_t} \\cdot v'_{w_c})}{\\sum_{i=1}^V \\exp(v_{w_t} \\cdot v'_{w_i})}\n",
    "   $$\n",
    "   其中 $ v'_{w_c} $ 是输出层矩阵 $ W' $ 中对应上下文词 $ w_c $ 的向量。\n",
    "\n",
    "4. **损失函数**  \n",
    "   最小化交叉熵损失：  \n",
    "   $$\n",
    "   \\mathcal{L} = -\\sum_{w_c \\in \\text{Context}} \\log p(w_c | w_t)\n",
    "   $$\n",
    "\n",
    "5. **参数更新**  \n",
    "   通过反向传播和梯度下降优化 $ W $ 和 $ W' $，最终 $ W $ 即为所有词的词向量矩阵。\n",
    "\n",
    "#### **4. 优化技巧**\n",
    "- **== 负采样（Negative Sampling）==**：  \n",
    "  将 Softmax 替换为二分类问题，随机采样负例（非上下文词）加速训练。  \n",
    "  损失函数变为：  \n",
    "  $$\n",
    "  \\mathcal{L} = -\\log \\sigma(v_{w_t} \\cdot v'_{w_c}) - \\sum_{k=1}^K \\log \\sigma(-v_{w_t} \\cdot v'_{w_k})\n",
    "  $$\n",
    "  其中 $ K $ 是负样本数（通常取5-20）。\n",
    "\n",
    "- **层次 Softmax（Hierarchical Softmax）**：  \n",
    "  用哈夫曼树编码词汇表，将计算复杂度从 $ O(V) $ 降到 $ O(\\log V) $。\n",
    "\n",
    "\n",
    "\n",
    "### **三、CBOW 算法流程**\n",
    "与 Skip-Gram 类似，但方向相反：\n",
    "1. **输入**：上下文词的 One-Hot 编码的平均或拼接。\n",
    "2. **输出**：中心词的概率分布。\n",
    "3. **隐藏层向量**：上下文词向量的平均。\n",
    "4. **损失函数**：  \n",
    "   $$\n",
    "   \\mathcal{L} = -\\log p(w_t | \\text{Context})\n",
    "   $$\n",
    "\n",
    "\n",
    "### **四、关键参数**\n",
    "| 参数              | 作用                                                                 |\n",
    "|-------------------|----------------------------------------------------------------------|\n",
    "| **向量维度（d）** | 通常取100-300维，维度越高表达能力越强，但可能过拟合。                |\n",
    "| **窗口大小**      | 决定上下文范围，较大窗口捕捉主题相关性，较小窗口聚焦语法关系。       |\n",
    "| **负采样数（K）** | 影响训练速度和效果，K越大模型越准但越慢。                           |\n",
    "| **迭代次数**      | 通常3-15轮，需监控验证集效果防止过拟合。                            |\n",
    "\n",
    "\n",
    "\n",
    "### **五、示例说明**\n",
    "#### **句子：\"The cat sat on the mat\"**\n",
    "1. **Skip-Gram 训练样本**（窗口大小=2）：  \n",
    "   - 中心词 \"sat\" → 上下文 [\"cat\", \"on\"]  \n",
    "   - 中心词 \"on\" → 上下文 [\"sat\", \"the\"]  \n",
    "   - ...其他词同理。\n",
    "\n",
    "2. **CBOW 训练样本**（窗口大小=2）：  \n",
    "   - 上下文 [\"The\", \"cat\", \"on\", \"the\"] → 中心词 \"sat\"  \n",
    "   - 上下文 [\"cat\", \"sat\", \"the\", \"mat\"] → 中心词 \"on\"  \n",
    "   - ...其他词同理。\n",
    "\n",
    "\n",
    "\n",
    "### **六、输出结果**\n",
    "- 最终得到两个矩阵：  \n",
    "  - $ W $（输入层→隐藏层）：**词向量矩阵**（每行对应一个词的向量）。  \n",
    "  - $ W' $（隐藏层→输出层）：通常丢弃，但也可作为补充特征。\n",
    "\n",
    "---\n",
    "\n",
    "### **七、优缺点总结**\n",
    "| **优点**                          | **缺点**                          |\n",
    "|-----------------------------------|-----------------------------------|\n",
    "| 高效，适合大规模语料              | 无法处理一词多义（静态向量）      |\n",
    "| 捕捉语义/语法相似性（如类比任务） | 未考虑全局词共现（相比GloVe）     |\n",
    "| 支持增量训练                      | 对低频词效果较差                  |\n",
    "\n",
    "\n",
    "\n",
    "### **八、代码示例（Gensim库）**\n",
    "```python\n",
    "from gensim.models import Word2Vec\n",
    "\n",
    "sentences = [\n",
    "    [\"The\", \"cat\", \"sat\", \"on\", \"the\", \"mat\"],\n",
    "    [\"Dog\", \"runs\", \"in\", \"the\", \"park\"]\n",
    "]\n",
    "\n",
    "# 训练Skip-Gram模型\n",
    "model = Word2Vec(\n",
    "    sentences,\n",
    "    vector_size=100,   # 向量维度\n",
    "    window=5,          # 上下文窗口\n",
    "    sg=1,              # 1=Skip-Gram, 0=CBOW\n",
    "    negative=5,        # 负采样数\n",
    "    min_count=1        # 忽略低频词阈值\n",
    ")\n",
    "\n",
    "# 获取词向量\n",
    "vector_cat = model.wv[\"cat\"]\n",
    "print(vector_cat)\n",
    "\n",
    "# 找相似词\n",
    "similar_words = model.wv.most_similar(\"cat\", topn=3)\n",
    "print(similar_words)  # 输出：[('dog', 0.92), ('mat', 0.85), ...]\n",
    "```\n",
    "\n",
    "\n",
    "### **总结**\n",
    "Word2Vec 通过浅层神经网络和上下文预测任务，将词语映射到低维向量空间，核心流程包括：  \n",
    "1. **构建训练样本**（中心词-上下文对）  \n",
    "2. **定义网络结构**（输入层 → 隐藏层 → 输出层）  \n",
    "3. **优化损失函数**（交叉熵 + 负采样/层次Softmax加速）  \n",
    "4. **提取词向量**（输入层权重矩阵）。  \n",
    "\n",
    "\n",
    "其简单高效的特性使其成为词向量技术的基石，后续模型（如GloVe、FastText）均在此基础上改进。\n",
    "\n",
    "\n",
    "---"
   ]
  },
  {
   "cell_type": "code",
   "execution_count": 2,
   "metadata": {},
   "outputs": [],
   "source": [
    "# word2vec 本质相似与分类任务 ， 反向传播的过程中更新参数，也要更新训练样本 \n",
    "import io\n",
    "import re\n",
    "import string\n",
    "import tqdm\n",
    "import numpy as np\n",
    "import tensorflow as tf\n",
    "from tensorflow.keras import layers\n"
   ]
  },
  {
   "cell_type": "code",
   "execution_count": 3,
   "metadata": {},
   "outputs": [],
   "source": [
    "# 基础设置\n",
    "# Load the TensorBoard notebook extension\n",
    "%load_ext tensorboard"
   ]
  },
  {
   "cell_type": "code",
   "execution_count": 4,
   "metadata": {},
   "outputs": [],
   "source": [
    "SEED = 42\n",
    "AUTOTUNE = tf.data.AUTOTUNE"
   ]
  },
  {
   "cell_type": "markdown",
   "metadata": {},
   "source": [
    "# 单个句子向量化"
   ]
  },
  {
   "cell_type": "code",
   "execution_count": 5,
   "metadata": {},
   "outputs": [
    {
     "name": "stdout",
     "output_type": "stream",
     "text": [
      "8\n"
     ]
    }
   ],
   "source": [
    "sentence = \"The wide road shimmered in the hot sun\"\n",
    "tokens = list(sentence.lower().split())\n",
    "print(len(tokens))"
   ]
  },
  {
   "cell_type": "code",
   "execution_count": 6,
   "metadata": {},
   "outputs": [
    {
     "name": "stdout",
     "output_type": "stream",
     "text": [
      "{'<pad>': 0, 'the': 1, 'wide': 2, 'road': 3, 'shimmered': 4, 'in': 5, 'hot': 6, 'sun': 7}\n"
     ]
    }
   ],
   "source": [
    "# 创建一个词汇表来保存从标记到整数索引的映射：\n",
    "vocab, index = {}, 1  # start indexing from 1\n",
    "vocab['<pad>'] = 0  # add a padding token\n",
    "for token in tokens:\n",
    "    if token not in vocab:\n",
    "        vocab[token] = index\n",
    "        index += 1\n",
    "vocab_size = len(vocab)\n",
    "print(vocab)"
   ]
  },
  {
   "cell_type": "code",
   "execution_count": 7,
   "metadata": {},
   "outputs": [
    {
     "name": "stdout",
     "output_type": "stream",
     "text": [
      "{0: '<pad>', 1: 'the', 2: 'wide', 3: 'road', 4: 'shimmered', 5: 'in', 6: 'hot', 7: 'sun'}\n"
     ]
    }
   ],
   "source": [
    "# 创建一个逆词汇表来保存从整数索引到标记的映射：\n",
    "inverse_vocab = {index: token for token, index in vocab.items()}\n",
    "print(inverse_vocab)"
   ]
  },
  {
   "cell_type": "code",
   "execution_count": 8,
   "metadata": {},
   "outputs": [
    {
     "name": "stdout",
     "output_type": "stream",
     "text": [
      "[1, 2, 3, 4, 5, 1, 6, 7]\n"
     ]
    }
   ],
   "source": [
    "# 将你的句子矢量化：\n",
    "example_sequence = [vocab[word] for word in tokens]\n",
    "print(example_sequence)"
   ]
  },
  {
   "cell_type": "code",
   "execution_count": 9,
   "metadata": {},
   "outputs": [
    {
     "name": "stdout",
     "output_type": "stream",
     "text": [
      "26\n"
     ]
    }
   ],
   "source": [
    "# tf.keras.preprocessing.sequence模块提供了一些有用的函数，可以简化 word2vec 的数据准备。\n",
    "# 可以使用从给定的范围内的标记tf.keras.preprocessing.sequence.skipgrams中生成 skip-gram 对\n",
    "# example_sequencewindow_size[0, vocab_size)\n",
    "window_size = 2\n",
    "positive_skip_grams, _ = tf.keras.preprocessing.sequence.skipgrams(\n",
    "    example_sequence,\n",
    "    vocabulary_size=vocab_size,\n",
    "    window_size=window_size,\n",
    "    negative_samples=0)\n",
    "print(len(positive_skip_grams))"
   ]
  },
  {
   "cell_type": "code",
   "execution_count": 10,
   "metadata": {},
   "outputs": [
    {
     "name": "stdout",
     "output_type": "stream",
     "text": [
      "(1, 4): (the, shimmered)\n",
      "(3, 4): (road, shimmered)\n",
      "(5, 4): (in, shimmered)\n",
      "(2, 3): (wide, road)\n",
      "(3, 1): (road, the)\n"
     ]
    }
   ],
   "source": [
    "# 打印一些正向的 skip-gram：\n",
    "for target, context in positive_skip_grams[:5]:\n",
    "    print(f\"({target}, {context}): ({inverse_vocab[target]}, {inverse_vocab[context]})\")"
   ]
  },
  {
   "cell_type": "code",
   "execution_count": 11,
   "metadata": {},
   "outputs": [
    {
     "name": "stdout",
     "output_type": "stream",
     "text": [
      "tf.Tensor([2 1 4 3], shape=(4,), dtype=int64)\n",
      "['wide', 'the', 'shimmered', 'road']\n"
     ]
    }
   ],
   "source": [
    "# 针对一个 skip-gram 进行负采样\n",
    "\"\"\"\n",
    "    该skipgrams函数通过在给定的窗口跨度上滑动来返回所有正 skip-gram 对。\n",
    "    要生成可用作训练负样本的更多 skip-gram 对，您需要从词汇表中抽取随机单词。\n",
    "    使用该tf.random.log_uniform_candidate_sampler函数在窗口中为给定目标单词抽取num_ns一定数量的负样本。\n",
    "    可以在一个 skip-gram 的目标单词上调用该函数，并将上下文单词作为 true 类传递以将其排除在抽样之外。\n",
    "\"\"\"\n",
    "# Get target and context words for one positive skip-gram.\n",
    "target_word, context_word = positive_skip_grams[0]\n",
    "\n",
    "# Set the number of negative samples per positive context.\n",
    "num_ns = 4\n",
    "\n",
    "context_class = tf.reshape(tf.constant(context_word, dtype=\"int64\"), (1, 1))\n",
    "negative_sampling_candidates, _, _ = tf.random.log_uniform_candidate_sampler(\n",
    "    true_classes=context_class,  # class that should be sampled as 'positive'\n",
    "    num_true=1,  # each positive skip-gram has 1 positive context class\n",
    "    num_sampled=num_ns,  # number of negative context words to sample\n",
    "    unique=True,  # all the negative samples should be unique\n",
    "    range_max=vocab_size,  # pick index of the samples from [0, vocab_size]\n",
    "    seed=SEED,  # seed for reproducibility\n",
    "    name=\"negative_sampling\"  # name of this operation\n",
    ")\n",
    "print(negative_sampling_candidates)\n",
    "print([inverse_vocab[index.numpy()] for index in negative_sampling_candidates])"
   ]
  },
  {
   "cell_type": "code",
   "execution_count": 12,
   "metadata": {},
   "outputs": [],
   "source": [
    "# 构建一个训练样本\n",
    "# Reduce a dimension so you can use concatenation (in the next step).\n",
    "squeezed_context_class = tf.squeeze(context_class, 1)\n",
    "\n",
    "# Concatenate a positive context word with negative sampled words.\n",
    "context = tf.concat([squeezed_context_class, negative_sampling_candidates], 0)\n",
    "\n",
    "# Label the first context word as `1` (positive) followed by `num_ns` `0`s (negative).\n",
    "label = tf.constant([1] + [0]*num_ns, dtype=\"int64\")\n",
    "target = target_word"
   ]
  },
  {
   "cell_type": "code",
   "execution_count": 13,
   "metadata": {},
   "outputs": [
    {
     "name": "stdout",
     "output_type": "stream",
     "text": [
      "target_index    : 1\n",
      "target_word     : the\n",
      "context_indices : [4 2 1 4 3]\n",
      "context_words   : ['shimmered', 'wide', 'the', 'shimmered', 'road']\n",
      "label           : [1 0 0 0 0]\n"
     ]
    }
   ],
   "source": [
    "print(f\"target_index    : {target}\")\n",
    "print(f\"target_word     : {inverse_vocab[target_word]}\")\n",
    "print(f\"context_indices : {context}\")\n",
    "print(f\"context_words   : {[inverse_vocab[c.numpy()] for c in context]}\")\n",
    "print(f\"label           : {label}\")"
   ]
  },
  {
   "cell_type": "code",
   "execution_count": 14,
   "metadata": {},
   "outputs": [
    {
     "name": "stdout",
     "output_type": "stream",
     "text": [
      "target  : 1\n",
      "context : tf.Tensor([4 2 1 4 3], shape=(5,), dtype=int64)\n",
      "label   : tf.Tensor([1 0 0 0 0], shape=(5,), dtype=int64)\n"
     ]
    }
   ],
   "source": [
    "print(\"target  :\", target)\n",
    "print(\"context :\", context)\n",
    "print(\"label   :\", label)"
   ]
  },
  {
   "cell_type": "markdown",
   "metadata": {},
   "source": [
    "# 使用莎士比亚作品的文本文件"
   ]
  },
  {
   "cell_type": "code",
   "execution_count": 15,
   "metadata": {},
   "outputs": [],
   "source": [
    "path_to_file = tf.keras.utils.get_file('shakespeare.txt', 'https://storage.googleapis.com/download.tensorflow.org/data/shakespeare.txt')"
   ]
  },
  {
   "cell_type": "code",
   "execution_count": 16,
   "metadata": {},
   "outputs": [
    {
     "name": "stdout",
     "output_type": "stream",
     "text": [
      "First Citizen:\n",
      "Before we proceed any further, hear me speak.\n",
      "\n",
      "All:\n",
      "Speak, speak.\n",
      "\n",
      "First Citizen:\n",
      "You are all resolved rather to die than to famish?\n",
      "\n",
      "All:\n",
      "Resolved. resolved.\n",
      "\n",
      "First Citizen:\n",
      "First, you know Caius Marcius is chief enemy to the people.\n",
      "\n",
      "All:\n",
      "We know't, we know't.\n",
      "\n",
      "First Citizen:\n",
      "Let us kill him, and we'll have corn at our own price.\n"
     ]
    }
   ],
   "source": [
    "with open(path_to_file) as f:\n",
    "    lines = f.read().splitlines()\n",
    "for line in lines[:20]:\n",
    "    print(line)"
   ]
  },
  {
   "cell_type": "code",
   "execution_count": 17,
   "metadata": {},
   "outputs": [],
   "source": [
    "# 使用非空行构造一个tf.data.TextLineDataset对象以用于下一步\n",
    "text_ds = tf.data.TextLineDataset(path_to_file).filter(lambda x: tf.cast(tf.strings.length(x), bool))"
   ]
  },
  {
   "cell_type": "code",
   "execution_count": 18,
   "metadata": {},
   "outputs": [],
   "source": [
    "# 将语料库中的句子向量化\n",
    "# Now, create a custom standardization function to lowercase the text and\n",
    "# remove punctuation.\n",
    "def custom_standardization(input_data):\n",
    "    lowercase = tf.strings.lower(input_data)\n",
    "    return tf.strings.regex_replace(lowercase,\n",
    "        '[%s]' % re.escape(string.punctuation), '')\n",
    "\n",
    "\n",
    "# Define the vocabulary size and the number of words in a sequence.\n",
    "vocab_size = 4096\n",
    "sequence_length = 10\n",
    "\n",
    "# Use the `TextVectorization` layer to normalize, split, and map strings to\n",
    "# integers. Set the `output_sequence_length` length to pad all samples to the\n",
    "# same length.\n",
    "vectorize_layer = layers.TextVectorization(\n",
    "    standardize=custom_standardization,\n",
    "    max_tokens=vocab_size,\n",
    "    output_mode='int',\n",
    "    output_sequence_length=sequence_length)"
   ]
  },
  {
   "cell_type": "code",
   "execution_count": 19,
   "metadata": {},
   "outputs": [],
   "source": [
    "# 调用TextVectorization.adapt文本数据集来创建词汇表\n",
    "vectorize_layer.adapt(text_ds.batch(1024))"
   ]
  },
  {
   "cell_type": "code",
   "execution_count": 20,
   "metadata": {},
   "outputs": [
    {
     "name": "stdout",
     "output_type": "stream",
     "text": [
      "['', '[UNK]', np.str_('the'), np.str_('and'), np.str_('to'), np.str_('i'), np.str_('of'), np.str_('you'), np.str_('my'), np.str_('a'), np.str_('that'), np.str_('in'), np.str_('is'), np.str_('not'), np.str_('for'), np.str_('with'), np.str_('me'), np.str_('it'), np.str_('be'), np.str_('your')]\n"
     ]
    }
   ],
   "source": [
    "# 一旦调整了层的状态以表示文本语料库，就可以通过 访问词汇表TextVectorization.get_vocabulary。\n",
    "# 此函数返回按频率排序（降序）的所有词汇标记的列表。\n",
    "# Save the created vocabulary for reference.\n",
    "inverse_vocab = vectorize_layer.get_vocabulary()\n",
    "print(inverse_vocab[:20])"
   ]
  },
  {
   "cell_type": "code",
   "execution_count": 21,
   "metadata": {},
   "outputs": [],
   "source": [
    "# 现在可以vectorize_layer使用 来为text_ds(a tf.data.Dataset) 中的每个元素生成向量。\n",
    "# 应用Dataset.batch、Dataset.prefetch、Dataset.map和Dataset.unbatch。\n",
    "# Vectorize the data in text_ds.\n",
    "text_vector_ds = text_ds.batch(1024).prefetch(AUTOTUNE).map(vectorize_layer).unbatch()"
   ]
  },
  {
   "cell_type": "code",
   "execution_count": 22,
   "metadata": {},
   "outputs": [
    {
     "name": "stdout",
     "output_type": "stream",
     "text": [
      "32777\n"
     ]
    }
   ],
   "source": [
    "# 从数据集中获取序列\n",
    "sequences = list(text_vector_ds.as_numpy_iterator())\n",
    "print(len(sequences))"
   ]
  },
  {
   "cell_type": "code",
   "execution_count": 23,
   "metadata": {},
   "outputs": [
    {
     "name": "stdout",
     "output_type": "stream",
     "text": [
      "[ 89 270   0   0   0   0   0   0   0   0] => [np.str_('first'), np.str_('citizen'), '', '', '', '', '', '', '', '']\n",
      "[138  36 982 144 673 125  16 106   0   0] => [np.str_('before'), np.str_('we'), np.str_('proceed'), np.str_('any'), np.str_('further'), np.str_('hear'), np.str_('me'), np.str_('speak'), '', '']\n",
      "[34  0  0  0  0  0  0  0  0  0] => [np.str_('all'), '', '', '', '', '', '', '', '', '']\n",
      "[106 106   0   0   0   0   0   0   0   0] => [np.str_('speak'), np.str_('speak'), '', '', '', '', '', '', '', '']\n",
      "[ 89 270   0   0   0   0   0   0   0   0] => [np.str_('first'), np.str_('citizen'), '', '', '', '', '', '', '', '']\n"
     ]
    }
   ],
   "source": [
    "for seq in sequences[:5]:\n",
    "    print(f\"{seq} => {[inverse_vocab[i] for i in seq]}\")"
   ]
  },
  {
   "cell_type": "code",
   "execution_count": 24,
   "metadata": {},
   "outputs": [
    {
     "name": "stdout",
     "output_type": "stream",
     "text": [
      "[0.00315225 0.00315225 0.00547597 0.00741556 0.00912817 0.01068435\n",
      " 0.01212381 0.01347162 0.01474487 0.0159558 ]\n"
     ]
    }
   ],
   "source": [
    "sampling_table = tf.keras.preprocessing.sequence.make_sampling_table(size=10)\n",
    "print(sampling_table)"
   ]
  },
  {
   "cell_type": "code",
   "execution_count": 25,
   "metadata": {},
   "outputs": [],
   "source": [
    "# Generates skip-gram pairs with negative sampling for a list of sequences\n",
    "# (int-encoded sentences) based on window size, number of negative samples\n",
    "# and vocabulary size.\n",
    "def generate_training_data(sequences, window_size, num_ns, vocab_size, seed):\n",
    "    # Elements of each training example are appended to these lists.\n",
    "    targets, contexts, labels = [], [], []\n",
    "\n",
    "    # Build the sampling table for `vocab_size` tokens.\n",
    "    sampling_table = tf.keras.preprocessing.sequence.make_sampling_table(vocab_size)\n",
    "\n",
    "    # Iterate over all sequences (sentences) in the dataset.\n",
    "    for sequence in tqdm.tqdm(sequences):\n",
    "\n",
    "        # Generate positive skip-gram pairs for a sequence (sentence).\n",
    "        positive_skip_grams, _ = tf.keras.preprocessing.sequence.skipgrams(\n",
    "            sequence,\n",
    "            vocabulary_size=vocab_size,\n",
    "            sampling_table=sampling_table,\n",
    "            window_size=window_size,\n",
    "            negative_samples=0)\n",
    "\n",
    "        # Iterate over each positive skip-gram pair to produce training examples\n",
    "        # with a positive context word and negative samples.\n",
    "        for target_word, context_word in positive_skip_grams:\n",
    "            context_class = tf.expand_dims(\n",
    "                tf.constant([context_word], dtype=\"int64\"), 1)\n",
    "            negative_sampling_candidates, _, _ = tf.random.log_uniform_candidate_sampler(\n",
    "                true_classes=context_class,\n",
    "                num_true=1,\n",
    "                num_sampled=num_ns,\n",
    "                unique=True,\n",
    "                range_max=vocab_size,\n",
    "                seed=seed,\n",
    "                name=\"negative_sampling\")\n",
    "\n",
    "            # Build context and label vectors (for one target word)\n",
    "            context = tf.concat([tf.squeeze(context_class,1), negative_sampling_candidates], 0)\n",
    "            label = tf.constant([1] + [0]*num_ns, dtype=\"int64\")\n",
    "\n",
    "            # Append each element from the training example to global lists.\n",
    "            targets.append(target_word)\n",
    "            contexts.append(context)\n",
    "            labels.append(label)\n",
    "\n",
    "    return targets, contexts, labels"
   ]
  },
  {
   "cell_type": "code",
   "execution_count": 26,
   "metadata": {},
   "outputs": [
    {
     "name": "stderr",
     "output_type": "stream",
     "text": [
      "100%|██████████| 32777/32777 [00:15<00:00, 2092.87it/s]\n"
     ]
    },
    {
     "name": "stdout",
     "output_type": "stream",
     "text": [
      "\n",
      "\n",
      "targets.shape: (64584,)\n",
      "contexts.shape: (64584, 5)\n",
      "labels.shape: (64584, 5)\n"
     ]
    }
   ],
   "source": [
    "# 从序列生成训练样本\n",
    "targets, contexts, labels = generate_training_data(\n",
    "    sequences=sequences,\n",
    "    window_size=2,\n",
    "    num_ns=4,\n",
    "    vocab_size=vocab_size,\n",
    "    seed=SEED)\n",
    "\n",
    "targets = np.array(targets)\n",
    "contexts = np.array(contexts)\n",
    "labels = np.array(labels)\n",
    "\n",
    "print('\\n')\n",
    "print(f\"targets.shape: {targets.shape}\")\n",
    "print(f\"contexts.shape: {contexts.shape}\")\n",
    "print(f\"labels.shape: {labels.shape}\")"
   ]
  },
  {
   "cell_type": "code",
   "execution_count": 27,
   "metadata": {},
   "outputs": [
    {
     "name": "stdout",
     "output_type": "stream",
     "text": [
      "<_BatchDataset element_spec=((TensorSpec(shape=(1024,), dtype=tf.int64, name=None), TensorSpec(shape=(1024, 5), dtype=tf.int64, name=None)), TensorSpec(shape=(1024, 5), dtype=tf.int64, name=None))>\n"
     ]
    }
   ],
   "source": [
    "BATCH_SIZE = 1024\n",
    "BUFFER_SIZE = 10000\n",
    "dataset = tf.data.Dataset.from_tensor_slices(((targets, contexts), labels))\n",
    "dataset = dataset.shuffle(BUFFER_SIZE).batch(BATCH_SIZE, drop_remainder=True)\n",
    "print(dataset)"
   ]
  },
  {
   "cell_type": "code",
   "execution_count": 28,
   "metadata": {},
   "outputs": [
    {
     "name": "stdout",
     "output_type": "stream",
     "text": [
      "<_PrefetchDataset element_spec=((TensorSpec(shape=(1024,), dtype=tf.int64, name=None), TensorSpec(shape=(1024, 5), dtype=tf.int64, name=None)), TensorSpec(shape=(1024, 5), dtype=tf.int64, name=None))>\n"
     ]
    }
   ],
   "source": [
    "dataset = dataset.cache().prefetch(buffer_size=AUTOTUNE)\n",
    "print(dataset)"
   ]
  },
  {
   "cell_type": "code",
   "execution_count": 29,
   "metadata": {},
   "outputs": [],
   "source": [
    "class Word2Vec(tf.keras.Model):\n",
    "    def __init__(self, vocab_size, embedding_dim):\n",
    "        super(Word2Vec, self).__init__()\n",
    "        self.target_embedding = layers.Embedding(vocab_size,\n",
    "                                        embedding_dim,\n",
    "                                        name=\"w2v_embedding\")\n",
    "        self.context_embedding = layers.Embedding(vocab_size,\n",
    "                                        embedding_dim)\n",
    "\n",
    "    def call(self, pair):\n",
    "        target, context = pair\n",
    "        # target: (batch, dummy?)  # The dummy axis doesn't exist in TF2.7+\n",
    "        # context: (batch, context)\n",
    "        if len(target.shape) == 2:\n",
    "            target = tf.squeeze(target, axis=1)\n",
    "        # target: (batch,)\n",
    "        word_emb = self.target_embedding(target)\n",
    "        # word_emb: (batch, embed)\n",
    "        context_emb = self.context_embedding(context)\n",
    "        # context_emb: (batch, context, embed)\n",
    "        dots = tf.einsum('be,bce->bc', word_emb, context_emb)\n",
    "        # dots: (batch, context)\n",
    "        return dots"
   ]
  },
  {
   "cell_type": "code",
   "execution_count": 30,
   "metadata": {},
   "outputs": [],
   "source": [
    "def custom_loss(x_logit, y_true):\n",
    "    return tf.nn.sigmoid_cross_entropy_with_logits(logits=x_logit, labels=y_true)"
   ]
  },
  {
   "cell_type": "code",
   "execution_count": 31,
   "metadata": {},
   "outputs": [],
   "source": [
    "embedding_dim = 128\n",
    "word2vec = Word2Vec(vocab_size, embedding_dim)\n",
    "word2vec.compile(optimizer='adam',\n",
    "                loss=tf.keras.losses.CategoricalCrossentropy(from_logits=True),\n",
    "                metrics=['accuracy'])"
   ]
  },
  {
   "cell_type": "code",
   "execution_count": 32,
   "metadata": {},
   "outputs": [],
   "source": [
    "tensorboard_callback = tf.keras.callbacks.TensorBoard(log_dir=\"logs\")"
   ]
  },
  {
   "cell_type": "code",
   "execution_count": 33,
   "metadata": {},
   "outputs": [
    {
     "name": "stdout",
     "output_type": "stream",
     "text": [
      "Epoch 1/20\n",
      "\u001b[1m63/63\u001b[0m \u001b[32m━━━━━━━━━━━━━━━━━━━━\u001b[0m\u001b[37m\u001b[0m \u001b[1m1s\u001b[0m 10ms/step - accuracy: 0.2194 - loss: 1.6088\n",
      "Epoch 2/20\n",
      "\u001b[1m63/63\u001b[0m \u001b[32m━━━━━━━━━━━━━━━━━━━━\u001b[0m\u001b[37m\u001b[0m \u001b[1m1s\u001b[0m 9ms/step - accuracy: 0.5969 - loss: 1.5894\n",
      "Epoch 3/20\n",
      "\u001b[1m63/63\u001b[0m \u001b[32m━━━━━━━━━━━━━━━━━━━━\u001b[0m\u001b[37m\u001b[0m \u001b[1m1s\u001b[0m 9ms/step - accuracy: 0.6059 - loss: 1.5313\n",
      "Epoch 4/20\n",
      "\u001b[1m63/63\u001b[0m \u001b[32m━━━━━━━━━━━━━━━━━━━━\u001b[0m\u001b[37m\u001b[0m \u001b[1m1s\u001b[0m 8ms/step - accuracy: 0.5535 - loss: 1.4422\n",
      "Epoch 5/20\n",
      "\u001b[1m63/63\u001b[0m \u001b[32m━━━━━━━━━━━━━━━━━━━━\u001b[0m\u001b[37m\u001b[0m \u001b[1m1s\u001b[0m 8ms/step - accuracy: 0.5684 - loss: 1.3448\n",
      "Epoch 6/20\n",
      "\u001b[1m63/63\u001b[0m \u001b[32m━━━━━━━━━━━━━━━━━━━━\u001b[0m\u001b[37m\u001b[0m \u001b[1m1s\u001b[0m 9ms/step - accuracy: 0.6038 - loss: 1.2475\n",
      "Epoch 7/20\n",
      "\u001b[1m63/63\u001b[0m \u001b[32m━━━━━━━━━━━━━━━━━━━━\u001b[0m\u001b[37m\u001b[0m \u001b[1m1s\u001b[0m 9ms/step - accuracy: 0.6419 - loss: 1.1565\n",
      "Epoch 8/20\n",
      "\u001b[1m63/63\u001b[0m \u001b[32m━━━━━━━━━━━━━━━━━━━━\u001b[0m\u001b[37m\u001b[0m \u001b[1m1s\u001b[0m 9ms/step - accuracy: 0.6790 - loss: 1.0729\n",
      "Epoch 9/20\n",
      "\u001b[1m63/63\u001b[0m \u001b[32m━━━━━━━━━━━━━━━━━━━━\u001b[0m\u001b[37m\u001b[0m \u001b[1m1s\u001b[0m 9ms/step - accuracy: 0.7130 - loss: 0.9959\n",
      "Epoch 10/20\n",
      "\u001b[1m63/63\u001b[0m \u001b[32m━━━━━━━━━━━━━━━━━━━━\u001b[0m\u001b[37m\u001b[0m \u001b[1m1s\u001b[0m 9ms/step - accuracy: 0.7416 - loss: 0.9249 \n",
      "Epoch 11/20\n",
      "\u001b[1m63/63\u001b[0m \u001b[32m━━━━━━━━━━━━━━━━━━━━\u001b[0m\u001b[37m\u001b[0m \u001b[1m1s\u001b[0m 10ms/step - accuracy: 0.7666 - loss: 0.8595\n",
      "Epoch 12/20\n",
      "\u001b[1m63/63\u001b[0m \u001b[32m━━━━━━━━━━━━━━━━━━━━\u001b[0m\u001b[37m\u001b[0m \u001b[1m1s\u001b[0m 10ms/step - accuracy: 0.7883 - loss: 0.7991\n",
      "Epoch 13/20\n",
      "\u001b[1m63/63\u001b[0m \u001b[32m━━━━━━━━━━━━━━━━━━━━\u001b[0m\u001b[37m\u001b[0m \u001b[1m1s\u001b[0m 9ms/step - accuracy: 0.8073 - loss: 0.7436\n",
      "Epoch 14/20\n",
      "\u001b[1m63/63\u001b[0m \u001b[32m━━━━━━━━━━━━━━━━━━━━\u001b[0m\u001b[37m\u001b[0m \u001b[1m1s\u001b[0m 9ms/step - accuracy: 0.8244 - loss: 0.6926\n",
      "Epoch 15/20\n",
      "\u001b[1m63/63\u001b[0m \u001b[32m━━━━━━━━━━━━━━━━━━━━\u001b[0m\u001b[37m\u001b[0m \u001b[1m1s\u001b[0m 9ms/step - accuracy: 0.8393 - loss: 0.6459\n",
      "Epoch 16/20\n",
      "\u001b[1m63/63\u001b[0m \u001b[32m━━━━━━━━━━━━━━━━━━━━\u001b[0m\u001b[37m\u001b[0m \u001b[1m1s\u001b[0m 9ms/step - accuracy: 0.8526 - loss: 0.6032\n",
      "Epoch 17/20\n",
      "\u001b[1m63/63\u001b[0m \u001b[32m━━━━━━━━━━━━━━━━━━━━\u001b[0m\u001b[37m\u001b[0m \u001b[1m1s\u001b[0m 8ms/step - accuracy: 0.8649 - loss: 0.5642\n",
      "Epoch 18/20\n",
      "\u001b[1m63/63\u001b[0m \u001b[32m━━━━━━━━━━━━━━━━━━━━\u001b[0m\u001b[37m\u001b[0m \u001b[1m1s\u001b[0m 8ms/step - accuracy: 0.8757 - loss: 0.5286\n",
      "Epoch 19/20\n",
      "\u001b[1m63/63\u001b[0m \u001b[32m━━━━━━━━━━━━━━━━━━━━\u001b[0m\u001b[37m\u001b[0m \u001b[1m1s\u001b[0m 8ms/step - accuracy: 0.8843 - loss: 0.4961\n",
      "Epoch 20/20\n",
      "\u001b[1m63/63\u001b[0m \u001b[32m━━━━━━━━━━━━━━━━━━━━\u001b[0m\u001b[37m\u001b[0m \u001b[1m1s\u001b[0m 8ms/step - accuracy: 0.8928 - loss: 0.4665\n"
     ]
    },
    {
     "data": {
      "text/plain": [
       "<keras.src.callbacks.history.History at 0x2115a131280>"
      ]
     },
     "execution_count": 33,
     "metadata": {},
     "output_type": "execute_result"
    }
   ],
   "source": [
    "word2vec.fit(dataset, epochs=20, callbacks=[tensorboard_callback])"
   ]
  },
  {
   "cell_type": "code",
   "execution_count": 34,
   "metadata": {},
   "outputs": [
    {
     "data": {
      "text/plain": [
       "Reusing TensorBoard on port 6006 (pid 16976), started 0:34:10 ago. (Use '!kill 16976' to kill it.)"
      ]
     },
     "metadata": {},
     "output_type": "display_data"
    },
    {
     "data": {
      "text/html": [
       "\n",
       "      <iframe id=\"tensorboard-frame-59e6c3061bc48de7\" width=\"100%\" height=\"800\" frameborder=\"0\">\n",
       "      </iframe>\n",
       "      <script>\n",
       "        (function() {\n",
       "          const frame = document.getElementById(\"tensorboard-frame-59e6c3061bc48de7\");\n",
       "          const url = new URL(\"http://localhost\");\n",
       "          const port = 6006;\n",
       "          if (port) {\n",
       "            url.port = port;\n",
       "          }\n",
       "          frame.src = url;\n",
       "        })();\n",
       "      </script>\n",
       "    "
      ],
      "text/plain": [
       "<IPython.core.display.HTML object>"
      ]
     },
     "metadata": {},
     "output_type": "display_data"
    }
   ],
   "source": [
    "# docs_infra: no_execute\n",
    "%tensorboard --logdir logs"
   ]
  },
  {
   "cell_type": "code",
   "execution_count": null,
   "metadata": {},
   "outputs": [],
   "source": []
  }
 ],
 "metadata": {
  "kernelspec": {
   "display_name": "python39",
   "language": "python",
   "name": "python3"
  },
  "language_info": {
   "codemirror_mode": {
    "name": "ipython",
    "version": 3
   },
   "file_extension": ".py",
   "mimetype": "text/x-python",
   "name": "python",
   "nbconvert_exporter": "python",
   "pygments_lexer": "ipython3",
   "version": "3.9.20"
  }
 },
 "nbformat": 4,
 "nbformat_minor": 2
}
